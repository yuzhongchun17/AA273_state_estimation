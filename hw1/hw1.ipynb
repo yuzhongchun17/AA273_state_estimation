{
 "cells": [
  {
   "cell_type": "code",
   "execution_count": 2,
   "metadata": {},
   "outputs": [],
   "source": [
    "# Given prior probabilities and test result likelihoods\n",
    "prior1 = 0.001  # p(X = 1)\n",
    "FN = 0.01  # p(Y = 0 | X = 1)\n",
    "FP = 0.1  # p(Y = 1 | X = 0)\n",
    "\n",
    "# Calculate the complementary probabilities\n",
    "prior0 = 1 - prior1 # p(X = 0)\n",
    "TP = 1 - FN # p(Y = 1 | X = 1)\n",
    "TN = 1 - FP  # p(Y = 0 | X = 0)"
   ]
  },
  {
   "cell_type": "markdown",
   "metadata": {},
   "source": [
    "## Q1"
   ]
  },
  {
   "cell_type": "code",
   "execution_count": 3,
   "metadata": {},
   "outputs": [
    {
     "data": {
      "text/plain": [
       "0.009812667261373772"
      ]
     },
     "execution_count": 3,
     "metadata": {},
     "output_type": "execute_result"
    }
   ],
   "source": [
    "# 1(a) calculate p(X = 1 | Y = 1) using Bayes Rule\n",
    "normalization_factor_1a = prior0 * FP + prior1 * TP # p(Y = 1)\n",
    "posterior_1a = TP * prior1 / normalization_factor_1a\n",
    "posterior_1a"
   ]
  },
  {
   "cell_type": "code",
   "execution_count": 4,
   "metadata": {},
   "outputs": [
    {
     "data": {
      "text/plain": [
       "1.112210964175685e-05"
      ]
     },
     "execution_count": 4,
     "metadata": {},
     "output_type": "execute_result"
    }
   ],
   "source": [
    "# 1(b) calculate p(X = 1 | Y = 0) using Bayes Rule\n",
    "normalization_factor_1b = prior0 * TN + prior1 * FN # p(Y = 0)\n",
    "posterior_1b = FN * prior1 / normalization_factor_1b\n",
    "posterior_1b "
   ]
  },
  {
   "cell_type": "markdown",
   "metadata": {},
   "source": [
    "## Q3"
   ]
  },
  {
   "cell_type": "code",
   "execution_count": 5,
   "metadata": {},
   "outputs": [],
   "source": [
    "# Given prior probabilities and test result likelihoods\n",
    "x1 = 0.001  # p(X = 1)\n",
    "y0_x1 = 0.01  # p(Y = 0 | X = 1)\n",
    "y1_x0 = 0.1  # p(Y = 1 | X = 0)\n",
    "\n",
    "# Calculate the complementary probabilities\n",
    "x0 = 1 - x1 # p(X = 0)\n",
    "y1_x1 = 1 - FN # p(Y = 1 | X = 1)\n",
    "y0_x0 = 1 - FP  # p(Y = 0 | X = 0)\n",
    "\n",
    "x1_y1 = posterior_1a\n",
    "x0_y1 = 1 - x1_y1 # p(X = 0 | Y = 1)\n",
    "\n",
    "x1_y0 = posterior_1b\n",
    "x0_y0 = 1 - x1_y0 # p(X = 0 | Y = 0)"
   ]
  },
  {
   "cell_type": "code",
   "execution_count": 6,
   "metadata": {},
   "outputs": [
    {
     "data": {
      "text/plain": [
       "0.08934285011075559"
      ]
     },
     "execution_count": 6,
     "metadata": {},
     "output_type": "execute_result"
    }
   ],
   "source": [
    "# 3(a) calculate p(X = 1 | Y = 0) using Bayesian estimator\n",
    "likelihood = y1_x1\n",
    "prior = x1_y1\n",
    "evidence = y1_x0 * (1-prior) + y1_x1 * prior\n",
    "posterior = likelihood * prior / evidence\n",
    "posterior"
   ]
  },
  {
   "cell_type": "code",
   "execution_count": 20,
   "metadata": {},
   "outputs": [
    {
     "data": {
      "text/plain": [
       "(0.9057987969233379, 4)"
      ]
     },
     "execution_count": 20,
     "metadata": {},
     "output_type": "execute_result"
    }
   ],
   "source": [
    "#3(b)\n",
    "def recursive_update_posterior(posterior, TP, FP, count=0):\n",
    "    \"\"\"\n",
    "    Recursive function to update the posterior probability based on new positive test results (Yn = 1).\n",
    "    \n",
    "    :param posterior: The current posterior probability of having the disease.\n",
    "    :param TP: The true positive rate of the test.\n",
    "    :param FP: The false positive rate of the test.\n",
    "    :return: The updated posterior probability.\n",
    "    \"\"\"\n",
    "    # calculate evidence\n",
    "    evidence = TP * posterior + FP * (1 - posterior) # posterior (from last iter) here means the prior\n",
    "    # update the posterior probability\n",
    "    updated_posterior = (TP * posterior) / evidence # real posterior of current iter\n",
    "     \n",
    "    # num of test iter\n",
    "    count += 1\n",
    "    \n",
    "    # updated posterior is greater than 0.5, return the value and number of tests\n",
    "    if updated_posterior > 0.5:\n",
    "        return updated_posterior, count\n",
    "    else:\n",
    "        # call the function recursively\n",
    "        return recursive_update_posterior(updated_posterior, TP, FP, count)\n",
    "\n",
    "# initial posterior\n",
    "posterior_i = x1_y1\n",
    "posterior_final, count = recursive_update_posterior(posterior_i, y1_x1, y1_x0, count=1)\n",
    "posterior_final, count"
   ]
  },
  {
   "cell_type": "markdown",
   "metadata": {},
   "source": [
    "## Q4"
   ]
  },
  {
   "cell_type": "code",
   "execution_count": 4,
   "metadata": {},
   "outputs": [
    {
     "name": "stdout",
     "output_type": "stream",
     "text": [
      "0 [9.99988878e-01 1.11221096e-05]\n",
      "10 [9.99988759e-01 1.12408744e-05]\n",
      "20 [9.99988759e-01 1.12408744e-05]\n",
      "30 [9.99988759e-01 1.12408744e-05]\n",
      "40 [9.99988759e-01 1.12408744e-05]\n",
      "50 [9.99988759e-01 1.12408744e-05]\n",
      "60 [9.99988759e-01 1.12408744e-05]\n",
      "70 [9.99988759e-01 1.12408744e-05]\n",
      "80 [9.99988759e-01 1.12408744e-05]\n",
      "90 [9.99988759e-01 1.12408744e-05]\n",
      "99 [0.99008359 0.00991641]\n",
      "the final probability is 0.009916411596790707\n"
     ]
    }
   ],
   "source": [
    "import numpy as np\n",
    "\n",
    "# possibily of test results\n",
    "TN = 0.9\n",
    "FN = 0.01\n",
    "TP = 0.99\n",
    "FP = 0.1\n",
    "\n",
    "# Initial belief\n",
    "pi_0 = np.array([1,0])\n",
    "\n",
    "# transition matrix (no change)\n",
    "T = np.array([\n",
    "    [0.999, 0.05],\n",
    "    [0.001, 0.95]\n",
    "])\n",
    "\n",
    "# likelihood\n",
    "M_neg = np.array([[TN,0],\n",
    "                 [0,FN]])\n",
    "M_pos = np.array([[FP,0],\n",
    "                 [0,TP]])\n",
    "\n",
    "def update_belief(pi_prev, test_result, M_neg, M_pos, T):\n",
    "    if test_result:\n",
    "        M = M_pos # test positive\n",
    "    else:\n",
    "        M = M_neg # test negative\n",
    "    pi_cur = M @ T @ pi_prev\n",
    "    pi_cur_normalized = pi_cur / np.sum(pi_cur)\n",
    "    return pi_cur_normalized\n",
    "\n",
    "# iterate through 98 negative tests\n",
    "pi_cur = pi_0 # belief = initial belief\n",
    "for day in range(100):\n",
    "    # Negative tests for day 1 to day 98, positive test on day 99\n",
    "    pi_cur = update_belief(pi_cur, day == 99, M_neg, M_pos, T)\n",
    "    if day % 10 ==0 or day == 99:\n",
    "        print(day, pi_cur)\n",
    "\n",
    "# probability of being infected on day 99\n",
    "print(\"the final probability is\",pi_cur[1])"
   ]
  },
  {
   "cell_type": "markdown",
   "metadata": {},
   "source": []
  }
 ],
 "metadata": {
  "kernelspec": {
   "display_name": "Python 3",
   "language": "python",
   "name": "python3"
  },
  "language_info": {
   "codemirror_mode": {
    "name": "ipython",
    "version": 3
   },
   "file_extension": ".py",
   "mimetype": "text/x-python",
   "name": "python",
   "nbconvert_exporter": "python",
   "pygments_lexer": "ipython3",
   "version": "3.10.7"
  }
 },
 "nbformat": 4,
 "nbformat_minor": 2
}
