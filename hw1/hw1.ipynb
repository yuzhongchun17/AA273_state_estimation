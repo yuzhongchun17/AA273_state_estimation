{
 "cells": [
  {
   "cell_type": "code",
   "execution_count": 39,
   "metadata": {},
   "outputs": [],
   "source": [
    "# Given prior probabilities and test result likelihoods\n",
    "prior1 = 0.001  # p(X = 1)\n",
    "FN = 0.01  # p(Y = 0 | X = 1)\n",
    "FP = 0.1  # p(Y = 1 | X = 0)\n",
    "\n",
    "# Calculate the complementary probabilities\n",
    "prior0 = 1 - prior1 # p(X = 0)\n",
    "TP = 1 - FN # p(Y = 1 | X = 1)\n",
    "TN = 1 - FP  # p(Y = 0 | X = 0)"
   ]
  },
  {
   "cell_type": "markdown",
   "metadata": {},
   "source": [
    "## Q1"
   ]
  },
  {
   "cell_type": "code",
   "execution_count": 40,
   "metadata": {},
   "outputs": [
    {
     "data": {
      "text/plain": [
       "0.009812667261373772"
      ]
     },
     "execution_count": 40,
     "metadata": {},
     "output_type": "execute_result"
    }
   ],
   "source": [
    "# 1(a) calculate p(X = 1 | Y = 1) using Bayes Rule\n",
    "normalization_factor_1a = prior0 * FP + prior1 * TP # p(Y = 1)\n",
    "posterior_1a = TP * prior1 / normalization_factor_1a\n",
    "posterior_1a"
   ]
  },
  {
   "cell_type": "code",
   "execution_count": 41,
   "metadata": {},
   "outputs": [
    {
     "data": {
      "text/plain": [
       "1.112210964175685e-05"
      ]
     },
     "execution_count": 41,
     "metadata": {},
     "output_type": "execute_result"
    }
   ],
   "source": [
    "# 1(b) calculate p(X = 1 | Y = 0) using Bayes Rule\n",
    "normalization_factor_1b = prior0 * TN + prior1 * FN # p(Y = 0)\n",
    "posterior_1b = FN * prior1 / normalization_factor_1b\n",
    "posterior_1b "
   ]
  },
  {
   "cell_type": "markdown",
   "metadata": {},
   "source": [
    "## Q3"
   ]
  },
  {
   "cell_type": "code",
   "execution_count": 42,
   "metadata": {},
   "outputs": [],
   "source": [
    "# Given prior probabilities and test result likelihoods\n",
    "x1 = 0.001  # p(X = 1)\n",
    "y0_x1 = 0.01  # p(Y = 0 | X = 1)\n",
    "y1_x0 = 0.1  # p(Y = 1 | X = 0)\n",
    "\n",
    "# Calculate the complementary probabilities\n",
    "x0 = 1 - x1 # p(X = 0)\n",
    "y1_x1 = 1 - FN # p(Y = 1 | X = 1)\n",
    "y0_x0 = 1 - FP  # p(Y = 0 | X = 0)\n",
    "\n",
    "x1_y1 = posterior_1a\n",
    "x0_y1 = 1 - x1_y1 # p(X = 0 | Y = 1)\n",
    "\n",
    "x1_y0 = posterior_1b\n",
    "x0_y0 = 1 - x1_y0 # p(X = 0 | Y = 0)"
   ]
  },
  {
   "cell_type": "code",
   "execution_count": 43,
   "metadata": {},
   "outputs": [
    {
     "data": {
      "text/plain": [
       "0.08934285011075559"
      ]
     },
     "execution_count": 43,
     "metadata": {},
     "output_type": "execute_result"
    }
   ],
   "source": [
    "# 3(a) calculate p(X = 1 | Y = 0) using Bayesian estimator\n",
    "likelihood = y1_x1\n",
    "prior = x1_y1\n",
    "evidence = y1_x0 * (1-prior) + y1_x1 * prior\n",
    "posterior = likelihood * prior / evidence\n",
    "posterior"
   ]
  },
  {
   "cell_type": "code",
   "execution_count": 44,
   "metadata": {},
   "outputs": [
    {
     "data": {
      "text/plain": [
       "(0.9057987969233379, 3)"
      ]
     },
     "execution_count": 44,
     "metadata": {},
     "output_type": "execute_result"
    }
   ],
   "source": [
    "#3(b)\n",
    "def recursive_update_posterior(posterior, TP, FP, count=0):\n",
    "    \"\"\"\n",
    "    Recursive function to update the posterior probability based on new positive test results.\n",
    "    \n",
    "    :param posterior: The current posterior probability of having the disease.\n",
    "    :param true_positive: The true positive rate of the test.\n",
    "    :param false_positive: The false positive rate of the test.\n",
    "    :return: The updated posterior probability.\n",
    "    \"\"\"\n",
    "    # calculate evidence\n",
    "    evidence = TP * posterior + FP * (1 - posterior)\n",
    "    # update the posterior probability\n",
    "    updated_posterior = (TP * posterior) / evidence\n",
    "     \n",
    "    # num of iter\n",
    "    count += 1\n",
    "    \n",
    "    # updated posterior is greater than 0.5, return the value and number of tests\n",
    "    if updated_posterior > 0.5:\n",
    "        return updated_posterior, count\n",
    "    else:\n",
    "        # call the function recursively\n",
    "        return recursive_update_posterior(updated_posterior, TP, FP, count)\n",
    "\n",
    "# initial posterior\n",
    "posterior_i = x1_y1\n",
    "posterior_final, count = recursive_update_posterior(posterior_i, y1_x1, y1_x0, count=0)\n",
    "posterior_final, count"
   ]
  },
  {
   "cell_type": "markdown",
   "metadata": {},
   "source": [
    "## Q4"
   ]
  },
  {
   "cell_type": "code",
   "execution_count": 45,
   "metadata": {},
   "outputs": [
    {
     "data": {
      "text/latex": [
       "$\\displaystyle 0.498564207209785$"
      ],
      "text/plain": [
       "0.498564207209785"
      ]
     },
     "execution_count": 45,
     "metadata": {},
     "output_type": "execute_result"
    }
   ],
   "source": [
    "from sympy import symbols, Matrix\n",
    "sensitivity = 0.95  # Probability of testing positive given infected\n",
    "specificity = 0.95  # Probability of testing negative given healthy\n",
    "\n",
    "# Initial belief \n",
    "pi_0 = Matrix([1, 0])\n",
    "\n",
    "T = Matrix([\n",
    "    [0.999, 0.05],\n",
    "    [0.001, 0.95]\n",
    "])\n",
    "\n",
    "def bayesian_update_one_day(pi_previous, test_result, T):\n",
    "    M_yt = Matrix([[specificity, 0], [0, sensitivity]]) if test_result else Matrix([[1 - sensitivity, 0], [0, 1 - specificity]])\n",
    "\n",
    "    unnormalized_pi = M_yt * T.transpose() * pi_previous\n",
    "\n",
    "    # Normalize the belief state\n",
    "    Z = sum(unnormalized_pi)\n",
    "    normalized_pi = unnormalized_pi / Z\n",
    "\n",
    "    return normalized_pi\n",
    "\n",
    "# Iterate through 98 negative tests\n",
    "pi = pi_0\n",
    "for day in range(1, 99):\n",
    "    pi = bayesian_update_one_day(pi, False, T)\n",
    "\n",
    "# 99th day with a positive test\n",
    "pi_99 = bayesian_update_one_day(pi, True, T)\n",
    "\n",
    "# probability of being infected on day 99\n",
    "probability_99 = pi_99[1]\n",
    "probability_99\n"
   ]
  },
  {
   "cell_type": "markdown",
   "metadata": {},
   "source": []
  }
 ],
 "metadata": {
  "kernelspec": {
   "display_name": "Python 3",
   "language": "python",
   "name": "python3"
  },
  "language_info": {
   "codemirror_mode": {
    "name": "ipython",
    "version": 3
   },
   "file_extension": ".py",
   "mimetype": "text/x-python",
   "name": "python",
   "nbconvert_exporter": "python",
   "pygments_lexer": "ipython3",
   "version": "3.10.7"
  }
 },
 "nbformat": 4,
 "nbformat_minor": 2
}
