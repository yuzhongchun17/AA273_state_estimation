{
 "cells": [
  {
   "cell_type": "code",
   "execution_count": 617,
   "metadata": {},
   "outputs": [],
   "source": [
    "import numpy as np\n",
    "import open3d as o3d"
   ]
  },
  {
   "cell_type": "markdown",
   "metadata": {},
   "source": [
    "## 2(d) MSE"
   ]
  },
  {
   "cell_type": "code",
   "execution_count": 618,
   "metadata": {},
   "outputs": [],
   "source": [
    "# helper fun: parse pc, convert to arr\n",
    "def load_point_cloud_with_open3d(file_path):\n",
    "    # Load the point cloud using Open3D\n",
    "    pcd = o3d.io.read_point_cloud(file_path)\n",
    "\n",
    "    # Convert Open3D.o3d.geometry.PointCloud to numpy array\n",
    "    points = np.asarray(pcd.points)\n",
    "    \n",
    "    return points"
   ]
  },
  {
   "cell_type": "code",
   "execution_count": 619,
   "metadata": {},
   "outputs": [],
   "source": [
    "# get point cloud (from /HW4_data_files/xx.ply)\n",
    "ri = load_point_cloud_with_open3d('HW4_data_files/ground_truth.ply') # ground truth\n",
    "ri_hat = load_point_cloud_with_open3d('HW4_data_files/transformed_associated.ply') # transformed"
   ]
  },
  {
   "cell_type": "code",
   "execution_count": 620,
   "metadata": {},
   "outputs": [],
   "source": [
    "def kabsch_pc_alignment(A, B):\n",
    "    assert A.shape == B.shape\n",
    "    # n = A.shape[0]\n",
    "\n",
    "    # Calculate centroids of the point clouds\n",
    "    mu_A = np.mean(A, axis=0)\n",
    "    mu_B = np.mean(B, axis=0)\n",
    "\n",
    "    # Calculate cross-covariance matrix H\n",
    "    H = ((B - mu_B).T @ (A - mu_A)) # normalize if needed?\n",
    "    U, _, Vt = np.linalg.svd(H)\n",
    "\n",
    "    # # Check if the determinant is negative (special case: reflection instead of rotation)\n",
    "    # if np.linalg.det(Vt.T @ U.T) < 0:\n",
    "    #     Vt.T[:, -1] *= -1  # Flip the sign\n",
    "\n",
    "    # Obtain rotation matrix R from H\n",
    "    R = (Vt.T @ U.T)\n",
    "\n",
    "    # Obtain the translation vector t from H\n",
    "    t = mu_A - R @ mu_B\n",
    "\n",
    "    return R, t\n",
    "\n",
    "R, t = kabsch_pc_alignment(ri, ri_hat)\n",
    "optimal_R = R\n",
    "# R,t"
   ]
  },
  {
   "cell_type": "code",
   "execution_count": 621,
   "metadata": {},
   "outputs": [],
   "source": [
    "# Calculate loss J(R,t)\n",
    "def calculate_mse(pc1, pc2):\n",
    "    \"\"\"Calculate the Mean Square Error (MSE) between two point clouds.\"\"\"\n",
    "    # method 1: \n",
    "    # squared_diffs = np.square(pc1 - pc2)\n",
    "    # mse = np.mean(squared_diffs)  \n",
    "    \n",
    "    # # method 2\n",
    "    # sums these squared differences for each point across all dimensions (X, Y, Z) \n",
    "    # before averaging these summed squared differences across all points. \n",
    "    mse = np.mean(np.sum((pc1-pc2)**2,axis=1))\n",
    "    return mse"
   ]
  },
  {
   "cell_type": "code",
   "execution_count": 622,
   "metadata": {},
   "outputs": [
    {
     "name": "stdout",
     "output_type": "stream",
     "text": [
      "Loss J (MSE): 0.007494166321482209\n"
     ]
    }
   ],
   "source": [
    "# Apply the alignment to ri_hat to align with ri\n",
    "R, t = kabsch_pc_alignment(ri, ri_hat)\n",
    "aligned_ri_hat = np.dot(ri_hat, R.T) + t\n",
    "\n",
    "# Calculate the MSE (loss J) between the ground truth ri and the aligned ri_hat at optimal R*, t* \n",
    "loss_J = calculate_mse(aligned_ri_hat, ri)\n",
    "print(f\"Loss J (MSE): {loss_J}\")"
   ]
  },
  {
   "cell_type": "markdown",
   "metadata": {},
   "source": [
    "## 2(e) SE(3)"
   ]
  },
  {
   "cell_type": "code",
   "execution_count": 623,
   "metadata": {},
   "outputs": [],
   "source": [
    "import pandas as pd\n",
    "\n",
    "def load_poses(file_path):\n",
    "    # Load the CSV file containing the poses\n",
    "    data = pd.read_csv(file_path)\n",
    "    # CSV columns are ordered as x,y,z,w, px, py, pz\n",
    "    quaternions = data[['x', 'y', 'z', 'w']].values\n",
    "    translations = data[['px', 'py', 'pz']].values\n",
    "    return quaternions, translations\n",
    "\n",
    "gt_q, gt_t = load_poses('HW4_data_files/gt_pose.csv') # groundtruth\n"
   ]
  },
  {
   "cell_type": "code",
   "execution_count": 624,
   "metadata": {},
   "outputs": [],
   "source": [
    "from scipy.spatial.transform import Rotation\n",
    "\n",
    "def calculate_rotational_error(optimal_R_matrix, gt_quaternion):\n",
    "    \"\"\"\n",
    "    Calculate the rotational error between an optimal rotation matrix and a ground truth quaternion.\n",
    "    \n",
    "    Parameters:\n",
    "    optimal_R_matrix (numpy.ndarray): A 3x3 numpy array representing the optimal rotation matrix.\n",
    "    gt_quaternion (numpy.ndarray): An array representing the ground truth quaternion.\n",
    "    \n",
    "    Returns:\n",
    "    float: Rotational error in degrees.\n",
    "    \"\"\"\n",
    "    # Create rotation objects from np array\n",
    "    optimal_R = Rotation.from_matrix(optimal_R_matrix)\n",
    "    gt_R = Rotation.from_quat(gt_quaternion)\n",
    "    \n",
    "    # Calculate the relative rotation matrix\n",
    "    relative_R_matrix = optimal_R.as_matrix() @ gt_R.as_matrix().T.reshape(3,3)\n",
    "    relative_R = Rotation.from_matrix(relative_R_matrix)\n",
    "    \n",
    "    # Calculate the rotational error (deg)\n",
    "    rotational_error = np.linalg.norm(relative_R.as_rotvec(degrees=True))\n",
    "    \n",
    "    return rotational_error"
   ]
  },
  {
   "cell_type": "code",
   "execution_count": 625,
   "metadata": {},
   "outputs": [
    {
     "name": "stdout",
     "output_type": "stream",
     "text": [
      "Rotational Error (deg): 1.1428636718937023e-12\n",
      "Translational Error: [1.68941365e-13]\n"
     ]
    }
   ],
   "source": [
    "# 1. Rotation error in SE(3): theta in axis-angle form\n",
    "rotational_error = calculate_rotational_error(optimal_R, gt_q)\n",
    "\n",
    "# 2. Translation error: Euclidean distance between the translation components of the two poses.\n",
    "translational_error = np.linalg.norm(t - gt_t, axis=1).reshape(1,)\n",
    "\n",
    "print(\"Rotational Error (deg):\", rotational_error)\n",
    "print(\"Translational Error:\", translational_error)\n"
   ]
  },
  {
   "cell_type": "markdown",
   "metadata": {},
   "source": []
  }
 ],
 "metadata": {
  "kernelspec": {
   "display_name": "Python 3",
   "language": "python",
   "name": "python3"
  },
  "language_info": {
   "codemirror_mode": {
    "name": "ipython",
    "version": 3
   },
   "file_extension": ".py",
   "mimetype": "text/x-python",
   "name": "python",
   "nbconvert_exporter": "python",
   "pygments_lexer": "ipython3",
   "version": "3.10.11"
  }
 },
 "nbformat": 4,
 "nbformat_minor": 2
}
