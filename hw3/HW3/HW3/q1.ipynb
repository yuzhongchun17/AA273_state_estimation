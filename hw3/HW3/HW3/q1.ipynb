{
 "cells": [
  {
   "cell_type": "code",
   "execution_count": 2,
   "metadata": {},
   "outputs": [
    {
     "name": "stdout",
     "output_type": "stream",
     "text": [
      "Jupyter environment detected. Enabling Open3D WebVisualizer.\n",
      "[Open3D INFO] WebRTC GUI backend enabled.\n",
      "[Open3D INFO] WebRTCWindowSystem: HTTP handshake server disabled.\n"
     ]
    }
   ],
   "source": [
    "import open3d as o3d"
   ]
  },
  {
   "cell_type": "markdown",
   "metadata": {},
   "source": [
    "### Load Point Cloud\n"
   ]
  },
  {
   "cell_type": "code",
   "execution_count": 11,
   "metadata": {},
   "outputs": [
    {
     "name": "stdout",
     "output_type": "stream",
     "text": [
      "PointCloud with 143070 points.\n",
      "PointCloud with 140117 points.\n",
      "PointCloud with 140117 points.\n"
     ]
    }
   ],
   "source": [
    "# (a) load point cloud\n",
    "terrain_pc = o3d.io.read_point_cloud(\"./terrain.ply\")\n",
    "terrain_pc_noisy = o3d.io.read_point_cloud(\"./terrain_noisy.ply\")\n",
    "terrain_pc_partial = o3d.io.read_point_cloud(\"./terrain_partial.ply\")\n",
    "\n",
    "# (b) uniformly downsample the point cloud\n",
    "terrain_pc_down = terrain_pc.uniform_down_sample(10)\n",
    "terrain_pc_noisy_down = terrain_pc_noisy.uniform_down_sample(10)\n",
    "terrain_pc_partial_down = terrain_pc_partial.uniform_down_sample(10)\n",
    "\n",
    "print(terrain_pc_down)\n",
    "print(terrain_pc_noisy_down)\n",
    "print(terrain_pc_partial_down)\n"
   ]
  },
  {
   "cell_type": "code",
   "execution_count": 12,
   "metadata": {},
   "outputs": [
    {
     "name": "stdout",
     "output_type": "stream",
     "text": [
      "[Open3D WARNING] GLFW Error: WGL: Failed to make context current: The requested transformation operation is not supported. \n",
      "[Open3D WARNING] GLFW Error: WGL: Failed to make context current: The handle is invalid. \n",
      "[Open3D WARNING] GLFW Error: WGL: Failed to make context current: The requested transformation operation is not supported. \n"
     ]
    }
   ],
   "source": [
    "# (c) visualize the downsampled point cloud\n",
    "o3d.visualization.draw_geometries([terrain_pc_down])\n",
    "o3d.visualization.draw_geometries([terrain_pc_noisy_down])\n",
    "o3d.visualization.draw_geometries([terrain_pc_partial_down])"
   ]
  },
  {
   "cell_type": "markdown",
   "metadata": {},
   "source": [
    "### Denoise the point cloud"
   ]
  },
  {
   "cell_type": "code",
   "execution_count": 13,
   "metadata": {},
   "outputs": [],
   "source": [
    "# (d) denoise the point cloud \n",
    "\n",
    "# print(\"terrain_pc_noisy:\", terrain_pc_noisy, \"terrain_pc_partial:\",terrain_pc_partial)\n",
    "\n",
    "# Apply statistical outlier removal\n",
    "terrain_pc_denoised_down, _ = terrain_pc_noisy_down.remove_statistical_outlier(nb_neighbors=10, std_ratio=1.0)\n",
    "# print(\"terrain_denoised:\", terrain_pc_denoised_down)\n",
    "\n",
    "# calculate the chamfer distance (quantify how good the denoised pc)\n"
   ]
  },
  {
   "cell_type": "markdown",
   "metadata": {},
   "source": [
    "### Calculate Chamfer Distance Between Two Point Clouds\n"
   ]
  },
  {
   "cell_type": "code",
   "execution_count": 14,
   "metadata": {},
   "outputs": [],
   "source": [
    "\n",
    "from scipy.spatial import KDTree\n",
    "\n",
    "def chamfer_distance(pc1, pc2):\n",
    "    \"\"\"\n",
    "    Compute the Chamfer distance between two point clouds using KD-tree for efficient nearest neighbor search.\n",
    "    \n",
    "    Parameters:\n",
    "    - pc1, pc2: open3d.geometry.PointCloud objects\n",
    "    \n",
    "    Returns:\n",
    "    - float, the Chamfer distance between pc1 and pc2\n",
    "    \"\"\"\n",
    "    # Convert Open3D PointCloud to numpy arrays\n",
    "    pc1_points = np.asarray(pc1.points)\n",
    "    pc2_points = np.asarray(pc2.points)\n",
    "\n",
    "    # Create a KD-Tree for the second point cloud\n",
    "    tree2 = KDTree(pc2_points)\n",
    "\n",
    "    # Find the nearest neighbor in pc2 for each point in pc1\n",
    "    # min x-y\n",
    "    distances, _ = tree2.query(pc1_points) # Query the kd-tree for nearest neighbors.\n",
    "    # print(distances)\n",
    "    # Compute the one-sided Chamfer distance\n",
    "    chamfer_dist = np.mean(distances ** 2)\n",
    "    \n",
    "    return chamfer_dist\n"
   ]
  },
  {
   "cell_type": "code",
   "execution_count": 17,
   "metadata": {},
   "outputs": [
    {
     "name": "stdout",
     "output_type": "stream",
     "text": [
      "The Chamfer distance between the denoised pc and ground-truth is: 0.00040969444983181166\n",
      "The Chamfer distance between the noisy pc and ground-truth is: 0.0006414638119259131\n",
      "The Chamfer distance between the partial pc and ground-truth is: 0.00020744294757761195\n"
     ]
    }
   ],
   "source": [
    "\n",
    "# Compute the Chamfer distance\n",
    "distance1 = chamfer_distance(terrain_pc_denoised_down, terrain_pc_down)\n",
    "print(f\"The Chamfer distance between the denoised pc and ground-truth is: {distance1}\")\n",
    "\n",
    "distance2 = chamfer_distance(terrain_pc_noisy_down, terrain_pc_down)\n",
    "print(f\"The Chamfer distance between the noisy pc and ground-truth is: {distance2}\")\n",
    "\n",
    "distance2 = chamfer_distance(terrain_pc_partial_down, terrain_pc_down)\n",
    "print(f\"The Chamfer distance between the partial pc and ground-truth is: {distance2}\")\n"
   ]
  }
 ],
 "metadata": {
  "kernelspec": {
   "display_name": "Python 3",
   "language": "python",
   "name": "python3"
  },
  "language_info": {
   "codemirror_mode": {
    "name": "ipython",
    "version": 3
   },
   "file_extension": ".py",
   "mimetype": "text/x-python",
   "name": "python",
   "nbconvert_exporter": "python",
   "pygments_lexer": "ipython3",
   "version": "3.10.11"
  }
 },
 "nbformat": 4,
 "nbformat_minor": 2
}
