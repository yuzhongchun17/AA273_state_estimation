{
  "cells": [
    {
      "cell_type": "code",
      "execution_count": 1,
      "metadata": {
        "id": "lomirs2GOOaX"
      },
      "outputs": [
        {
          "name": "stdout",
          "output_type": "stream",
          "text": [
            "Requirement already satisfied: open3d in c:\\users\\yuzho\\appdata\\local\\packages\\pythonsoftwarefoundation.python.3.10_qbz5n2kfra8p0\\localcache\\local-packages\\python310\\site-packages (0.17.0)\n",
            "Requirement already satisfied: numpy>=1.18.0 in c:\\users\\yuzho\\appdata\\local\\packages\\pythonsoftwarefoundation.python.3.10_qbz5n2kfra8p0\\localcache\\local-packages\\python310\\site-packages (from open3d) (1.24.3)\n",
            "Requirement already satisfied: dash>=2.6.0 in c:\\users\\yuzho\\appdata\\local\\packages\\pythonsoftwarefoundation.python.3.10_qbz5n2kfra8p0\\localcache\\local-packages\\python310\\site-packages (from open3d) (2.14.1)\n",
            "Requirement already satisfied: werkzeug>=2.2.3 in c:\\users\\yuzho\\appdata\\local\\packages\\pythonsoftwarefoundation.python.3.10_qbz5n2kfra8p0\\localcache\\local-packages\\python310\\site-packages (from open3d) (3.0.1)\n",
            "Requirement already satisfied: nbformat==5.7.0 in c:\\users\\yuzho\\appdata\\local\\packages\\pythonsoftwarefoundation.python.3.10_qbz5n2kfra8p0\\localcache\\local-packages\\python310\\site-packages (from open3d) (5.7.0)\n",
            "Requirement already satisfied: configargparse in c:\\users\\yuzho\\appdata\\local\\packages\\pythonsoftwarefoundation.python.3.10_qbz5n2kfra8p0\\localcache\\local-packages\\python310\\site-packages (from open3d) (1.7)\n",
            "Requirement already satisfied: ipywidgets>=8.0.4 in c:\\users\\yuzho\\appdata\\local\\packages\\pythonsoftwarefoundation.python.3.10_qbz5n2kfra8p0\\localcache\\local-packages\\python310\\site-packages (from open3d) (8.1.1)\n",
            "Requirement already satisfied: fastjsonschema in c:\\users\\yuzho\\appdata\\local\\packages\\pythonsoftwarefoundation.python.3.10_qbz5n2kfra8p0\\localcache\\local-packages\\python310\\site-packages (from nbformat==5.7.0->open3d) (2.18.1)\n",
            "Requirement already satisfied: jsonschema>=2.6 in c:\\users\\yuzho\\appdata\\local\\packages\\pythonsoftwarefoundation.python.3.10_qbz5n2kfra8p0\\localcache\\local-packages\\python310\\site-packages (from nbformat==5.7.0->open3d) (4.19.2)\n",
            "Requirement already satisfied: jupyter-core in c:\\users\\yuzho\\appdata\\local\\packages\\pythonsoftwarefoundation.python.3.10_qbz5n2kfra8p0\\localcache\\local-packages\\python310\\site-packages (from nbformat==5.7.0->open3d) (5.4.0)\n",
            "Requirement already satisfied: traitlets>=5.1 in c:\\users\\yuzho\\appdata\\local\\packages\\pythonsoftwarefoundation.python.3.10_qbz5n2kfra8p0\\localcache\\local-packages\\python310\\site-packages (from nbformat==5.7.0->open3d) (5.11.2)\n",
            "Requirement already satisfied: Flask<3.1,>=1.0.4 in c:\\users\\yuzho\\appdata\\local\\packages\\pythonsoftwarefoundation.python.3.10_qbz5n2kfra8p0\\localcache\\local-packages\\python310\\site-packages (from dash>=2.6.0->open3d) (3.0.0)\n",
            "Requirement already satisfied: plotly>=5.0.0 in c:\\users\\yuzho\\appdata\\local\\packages\\pythonsoftwarefoundation.python.3.10_qbz5n2kfra8p0\\localcache\\local-packages\\python310\\site-packages (from dash>=2.6.0->open3d) (5.18.0)\n",
            "Requirement already satisfied: dash-html-components==2.0.0 in c:\\users\\yuzho\\appdata\\local\\packages\\pythonsoftwarefoundation.python.3.10_qbz5n2kfra8p0\\localcache\\local-packages\\python310\\site-packages (from dash>=2.6.0->open3d) (2.0.0)\n",
            "Requirement already satisfied: dash-core-components==2.0.0 in c:\\users\\yuzho\\appdata\\local\\packages\\pythonsoftwarefoundation.python.3.10_qbz5n2kfra8p0\\localcache\\local-packages\\python310\\site-packages (from dash>=2.6.0->open3d) (2.0.0)\n",
            "Requirement already satisfied: dash-table==5.0.0 in c:\\users\\yuzho\\appdata\\local\\packages\\pythonsoftwarefoundation.python.3.10_qbz5n2kfra8p0\\localcache\\local-packages\\python310\\site-packages (from dash>=2.6.0->open3d) (5.0.0)\n",
            "Requirement already satisfied: typing-extensions>=4.1.1 in c:\\users\\yuzho\\appdata\\local\\packages\\pythonsoftwarefoundation.python.3.10_qbz5n2kfra8p0\\localcache\\local-packages\\python310\\site-packages (from dash>=2.6.0->open3d) (4.5.0)\n",
            "Requirement already satisfied: requests in c:\\users\\yuzho\\appdata\\local\\packages\\pythonsoftwarefoundation.python.3.10_qbz5n2kfra8p0\\localcache\\local-packages\\python310\\site-packages (from dash>=2.6.0->open3d) (2.31.0)\n",
            "Requirement already satisfied: retrying in c:\\users\\yuzho\\appdata\\local\\packages\\pythonsoftwarefoundation.python.3.10_qbz5n2kfra8p0\\localcache\\local-packages\\python310\\site-packages (from dash>=2.6.0->open3d) (1.3.4)\n",
            "Requirement already satisfied: ansi2html in c:\\users\\yuzho\\appdata\\local\\packages\\pythonsoftwarefoundation.python.3.10_qbz5n2kfra8p0\\localcache\\local-packages\\python310\\site-packages (from dash>=2.6.0->open3d) (1.8.0)\n",
            "Requirement already satisfied: nest-asyncio in c:\\users\\yuzho\\appdata\\local\\packages\\pythonsoftwarefoundation.python.3.10_qbz5n2kfra8p0\\localcache\\local-packages\\python310\\site-packages (from dash>=2.6.0->open3d) (1.5.8)\n",
            "Requirement already satisfied: setuptools in c:\\users\\yuzho\\appdata\\local\\packages\\pythonsoftwarefoundation.python.3.10_qbz5n2kfra8p0\\localcache\\local-packages\\python310\\site-packages (from dash>=2.6.0->open3d) (69.1.0)\n",
            "Requirement already satisfied: importlib-metadata in c:\\users\\yuzho\\appdata\\local\\packages\\pythonsoftwarefoundation.python.3.10_qbz5n2kfra8p0\\localcache\\local-packages\\python310\\site-packages (from dash>=2.6.0->open3d) (6.8.0)\n",
            "Requirement already satisfied: comm>=0.1.3 in c:\\users\\yuzho\\appdata\\local\\packages\\pythonsoftwarefoundation.python.3.10_qbz5n2kfra8p0\\localcache\\local-packages\\python310\\site-packages (from ipywidgets>=8.0.4->open3d) (0.1.4)\n",
            "Requirement already satisfied: ipython>=6.1.0 in c:\\users\\yuzho\\appdata\\local\\packages\\pythonsoftwarefoundation.python.3.10_qbz5n2kfra8p0\\localcache\\local-packages\\python310\\site-packages (from ipywidgets>=8.0.4->open3d) (8.16.1)\n",
            "Requirement already satisfied: widgetsnbextension~=4.0.9 in c:\\users\\yuzho\\appdata\\local\\packages\\pythonsoftwarefoundation.python.3.10_qbz5n2kfra8p0\\localcache\\local-packages\\python310\\site-packages (from ipywidgets>=8.0.4->open3d) (4.0.9)\n",
            "Requirement already satisfied: jupyterlab-widgets~=3.0.9 in c:\\users\\yuzho\\appdata\\local\\packages\\pythonsoftwarefoundation.python.3.10_qbz5n2kfra8p0\\localcache\\local-packages\\python310\\site-packages (from ipywidgets>=8.0.4->open3d) (3.0.9)\n",
            "Requirement already satisfied: MarkupSafe>=2.1.1 in c:\\users\\yuzho\\appdata\\local\\packages\\pythonsoftwarefoundation.python.3.10_qbz5n2kfra8p0\\localcache\\local-packages\\python310\\site-packages (from werkzeug>=2.2.3->open3d) (2.1.3)\n",
            "Requirement already satisfied: Jinja2>=3.1.2 in c:\\users\\yuzho\\appdata\\local\\packages\\pythonsoftwarefoundation.python.3.10_qbz5n2kfra8p0\\localcache\\local-packages\\python310\\site-packages (from Flask<3.1,>=1.0.4->dash>=2.6.0->open3d) (3.1.2)\n",
            "Requirement already satisfied: itsdangerous>=2.1.2 in c:\\users\\yuzho\\appdata\\local\\packages\\pythonsoftwarefoundation.python.3.10_qbz5n2kfra8p0\\localcache\\local-packages\\python310\\site-packages (from Flask<3.1,>=1.0.4->dash>=2.6.0->open3d) (2.1.2)\n",
            "Requirement already satisfied: click>=8.1.3 in c:\\users\\yuzho\\appdata\\local\\packages\\pythonsoftwarefoundation.python.3.10_qbz5n2kfra8p0\\localcache\\local-packages\\python310\\site-packages (from Flask<3.1,>=1.0.4->dash>=2.6.0->open3d) (8.1.7)\n",
            "Requirement already satisfied: blinker>=1.6.2 in c:\\users\\yuzho\\appdata\\local\\packages\\pythonsoftwarefoundation.python.3.10_qbz5n2kfra8p0\\localcache\\local-packages\\python310\\site-packages (from Flask<3.1,>=1.0.4->dash>=2.6.0->open3d) (1.7.0)\n",
            "Requirement already satisfied: backcall in c:\\users\\yuzho\\appdata\\local\\packages\\pythonsoftwarefoundation.python.3.10_qbz5n2kfra8p0\\localcache\\local-packages\\python310\\site-packages (from ipython>=6.1.0->ipywidgets>=8.0.4->open3d) (0.2.0)\n",
            "Requirement already satisfied: decorator in c:\\users\\yuzho\\appdata\\local\\packages\\pythonsoftwarefoundation.python.3.10_qbz5n2kfra8p0\\localcache\\local-packages\\python310\\site-packages (from ipython>=6.1.0->ipywidgets>=8.0.4->open3d) (5.1.1)\n",
            "Requirement already satisfied: jedi>=0.16 in c:\\users\\yuzho\\appdata\\local\\packages\\pythonsoftwarefoundation.python.3.10_qbz5n2kfra8p0\\localcache\\local-packages\\python310\\site-packages (from ipython>=6.1.0->ipywidgets>=8.0.4->open3d) (0.19.1)\n",
            "Requirement already satisfied: matplotlib-inline in c:\\users\\yuzho\\appdata\\local\\packages\\pythonsoftwarefoundation.python.3.10_qbz5n2kfra8p0\\localcache\\local-packages\\python310\\site-packages (from ipython>=6.1.0->ipywidgets>=8.0.4->open3d) (0.1.6)\n",
            "Requirement already satisfied: pickleshare in c:\\users\\yuzho\\appdata\\local\\packages\\pythonsoftwarefoundation.python.3.10_qbz5n2kfra8p0\\localcache\\local-packages\\python310\\site-packages (from ipython>=6.1.0->ipywidgets>=8.0.4->open3d) (0.7.5)\n",
            "Requirement already satisfied: prompt-toolkit!=3.0.37,<3.1.0,>=3.0.30 in c:\\users\\yuzho\\appdata\\local\\packages\\pythonsoftwarefoundation.python.3.10_qbz5n2kfra8p0\\localcache\\local-packages\\python310\\site-packages (from ipython>=6.1.0->ipywidgets>=8.0.4->open3d) (3.0.39)\n",
            "Requirement already satisfied: pygments>=2.4.0 in c:\\users\\yuzho\\appdata\\local\\packages\\pythonsoftwarefoundation.python.3.10_qbz5n2kfra8p0\\localcache\\local-packages\\python310\\site-packages (from ipython>=6.1.0->ipywidgets>=8.0.4->open3d) (2.16.1)\n",
            "Requirement already satisfied: stack-data in c:\\users\\yuzho\\appdata\\local\\packages\\pythonsoftwarefoundation.python.3.10_qbz5n2kfra8p0\\localcache\\local-packages\\python310\\site-packages (from ipython>=6.1.0->ipywidgets>=8.0.4->open3d) (0.6.3)\n",
            "Requirement already satisfied: exceptiongroup in c:\\users\\yuzho\\appdata\\local\\packages\\pythonsoftwarefoundation.python.3.10_qbz5n2kfra8p0\\localcache\\local-packages\\python310\\site-packages (from ipython>=6.1.0->ipywidgets>=8.0.4->open3d) (1.1.3)\n",
            "Requirement already satisfied: colorama in c:\\users\\yuzho\\appdata\\local\\packages\\pythonsoftwarefoundation.python.3.10_qbz5n2kfra8p0\\localcache\\local-packages\\python310\\site-packages (from ipython>=6.1.0->ipywidgets>=8.0.4->open3d) (0.4.6)\n",
            "Requirement already satisfied: attrs>=22.2.0 in c:\\users\\yuzho\\appdata\\local\\packages\\pythonsoftwarefoundation.python.3.10_qbz5n2kfra8p0\\localcache\\local-packages\\python310\\site-packages (from jsonschema>=2.6->nbformat==5.7.0->open3d) (23.1.0)\n",
            "Requirement already satisfied: jsonschema-specifications>=2023.03.6 in c:\\users\\yuzho\\appdata\\local\\packages\\pythonsoftwarefoundation.python.3.10_qbz5n2kfra8p0\\localcache\\local-packages\\python310\\site-packages (from jsonschema>=2.6->nbformat==5.7.0->open3d) (2023.7.1)\n",
            "Requirement already satisfied: referencing>=0.28.4 in c:\\users\\yuzho\\appdata\\local\\packages\\pythonsoftwarefoundation.python.3.10_qbz5n2kfra8p0\\localcache\\local-packages\\python310\\site-packages (from jsonschema>=2.6->nbformat==5.7.0->open3d) (0.30.2)\n",
            "Requirement already satisfied: rpds-py>=0.7.1 in c:\\users\\yuzho\\appdata\\local\\packages\\pythonsoftwarefoundation.python.3.10_qbz5n2kfra8p0\\localcache\\local-packages\\python310\\site-packages (from jsonschema>=2.6->nbformat==5.7.0->open3d) (0.12.0)\n",
            "Requirement already satisfied: tenacity>=6.2.0 in c:\\users\\yuzho\\appdata\\local\\packages\\pythonsoftwarefoundation.python.3.10_qbz5n2kfra8p0\\localcache\\local-packages\\python310\\site-packages (from plotly>=5.0.0->dash>=2.6.0->open3d) (8.2.3)\n",
            "Requirement already satisfied: packaging in c:\\users\\yuzho\\appdata\\local\\packages\\pythonsoftwarefoundation.python.3.10_qbz5n2kfra8p0\\localcache\\local-packages\\python310\\site-packages (from plotly>=5.0.0->dash>=2.6.0->open3d) (23.2)\n",
            "Requirement already satisfied: zipp>=0.5 in c:\\users\\yuzho\\appdata\\local\\packages\\pythonsoftwarefoundation.python.3.10_qbz5n2kfra8p0\\localcache\\local-packages\\python310\\site-packages (from importlib-metadata->dash>=2.6.0->open3d) (3.17.0)\n",
            "Requirement already satisfied: platformdirs>=2.5 in c:\\users\\yuzho\\appdata\\local\\packages\\pythonsoftwarefoundation.python.3.10_qbz5n2kfra8p0\\localcache\\local-packages\\python310\\site-packages (from jupyter-core->nbformat==5.7.0->open3d) (3.11.0)\n",
            "Requirement already satisfied: pywin32>=300 in c:\\users\\yuzho\\appdata\\local\\packages\\pythonsoftwarefoundation.python.3.10_qbz5n2kfra8p0\\localcache\\local-packages\\python310\\site-packages (from jupyter-core->nbformat==5.7.0->open3d) (306)\n",
            "Requirement already satisfied: charset-normalizer<4,>=2 in c:\\users\\yuzho\\appdata\\local\\packages\\pythonsoftwarefoundation.python.3.10_qbz5n2kfra8p0\\localcache\\local-packages\\python310\\site-packages (from requests->dash>=2.6.0->open3d) (3.3.1)\n",
            "Requirement already satisfied: idna<4,>=2.5 in c:\\users\\yuzho\\appdata\\local\\packages\\pythonsoftwarefoundation.python.3.10_qbz5n2kfra8p0\\localcache\\local-packages\\python310\\site-packages (from requests->dash>=2.6.0->open3d) (3.4)\n",
            "Requirement already satisfied: urllib3<3,>=1.21.1 in c:\\users\\yuzho\\appdata\\local\\packages\\pythonsoftwarefoundation.python.3.10_qbz5n2kfra8p0\\localcache\\local-packages\\python310\\site-packages (from requests->dash>=2.6.0->open3d) (2.0.7)\n",
            "Requirement already satisfied: certifi>=2017.4.17 in c:\\users\\yuzho\\appdata\\local\\packages\\pythonsoftwarefoundation.python.3.10_qbz5n2kfra8p0\\localcache\\local-packages\\python310\\site-packages (from requests->dash>=2.6.0->open3d) (2023.7.22)\n",
            "Requirement already satisfied: six>=1.7.0 in c:\\users\\yuzho\\appdata\\local\\packages\\pythonsoftwarefoundation.python.3.10_qbz5n2kfra8p0\\localcache\\local-packages\\python310\\site-packages (from retrying->dash>=2.6.0->open3d) (1.16.0)\n",
            "Requirement already satisfied: parso<0.9.0,>=0.8.3 in c:\\users\\yuzho\\appdata\\local\\packages\\pythonsoftwarefoundation.python.3.10_qbz5n2kfra8p0\\localcache\\local-packages\\python310\\site-packages (from jedi>=0.16->ipython>=6.1.0->ipywidgets>=8.0.4->open3d) (0.8.3)\n",
            "Requirement already satisfied: wcwidth in c:\\users\\yuzho\\appdata\\local\\packages\\pythonsoftwarefoundation.python.3.10_qbz5n2kfra8p0\\localcache\\local-packages\\python310\\site-packages (from prompt-toolkit!=3.0.37,<3.1.0,>=3.0.30->ipython>=6.1.0->ipywidgets>=8.0.4->open3d) (0.2.8)\n",
            "Requirement already satisfied: executing>=1.2.0 in c:\\users\\yuzho\\appdata\\local\\packages\\pythonsoftwarefoundation.python.3.10_qbz5n2kfra8p0\\localcache\\local-packages\\python310\\site-packages (from stack-data->ipython>=6.1.0->ipywidgets>=8.0.4->open3d) (2.0.0)\n",
            "Requirement already satisfied: asttokens>=2.1.0 in c:\\users\\yuzho\\appdata\\local\\packages\\pythonsoftwarefoundation.python.3.10_qbz5n2kfra8p0\\localcache\\local-packages\\python310\\site-packages (from stack-data->ipython>=6.1.0->ipywidgets>=8.0.4->open3d) (2.4.0)\n",
            "Requirement already satisfied: pure-eval in c:\\users\\yuzho\\appdata\\local\\packages\\pythonsoftwarefoundation.python.3.10_qbz5n2kfra8p0\\localcache\\local-packages\\python310\\site-packages (from stack-data->ipython>=6.1.0->ipywidgets>=8.0.4->open3d) (0.2.2)\n"
          ]
        }
      ],
      "source": [
        "!pip install open3d"
      ]
    },
    {
      "cell_type": "markdown",
      "metadata": {
        "id": "3fZJp15Ib77i"
      },
      "source": [
        "## Make sure that the DEVICE that's printed out is 'cuda'. This means that Pytorch is able to use your GPU."
      ]
    },
    {
      "cell_type": "code",
      "execution_count": 2,
      "metadata": {
        "id": "YzBRwIo3KwAf"
      },
      "outputs": [
        {
          "name": "stdout",
          "output_type": "stream",
          "text": [
            "Jupyter environment detected. Enabling Open3D WebVisualizer.\n",
            "[Open3D INFO] WebRTC GUI backend enabled.\n",
            "[Open3D INFO] WebRTCWindowSystem: HTTP handshake server disabled.\n",
            "cuda\n"
          ]
        }
      ],
      "source": [
        "import open3d as o3d\n",
        "import numpy as np\n",
        "import matplotlib.pyplot as plt\n",
        "import torch\n",
        "from matplotlib import ticker\n",
        "\n",
        "np.random.seed(0)\n",
        "\n",
        "DEVICE = torch.device('cuda' if torch.cuda.is_available() else 'cpu')\n",
        "print(DEVICE)\n",
        "torch.cuda.empty_cache()"
      ]
    },
    {
      "cell_type": "markdown",
      "metadata": {
        "id": "T2jMbSu-dJvj"
      },
      "source": [
        "## Definition of Gaussian Process Class. Read the comments below for more information about Pytorch."
      ]
    },
    {
      "cell_type": "code",
      "execution_count": null,
      "metadata": {
        "id": "8xn4omT5JHi1"
      },
      "outputs": [],
      "source": [
        "### -------------------------------- ###\n",
        "# Question 2a\n",
        "class GaussianProcess():\n",
        "    def __init__(self, X1, Y1, kernel_func=None, noise=1e-2):\n",
        "        # X1: (N x 3) inputs of training data\n",
        "        # Y1: (N x 1) outputs of training data\n",
        "        # kernel_func: (function) a function defining your kernel. It should take the form f(X1, X2) = K, where K is N x N if X1, X2 are N x k.\n",
        "        # where k is the number of feature dimensions\n",
        "\n",
        "        self.noise = noise\n",
        "        self.X1 = X1\n",
        "        self.Y1 = Y1\n",
        "\n",
        "        self.kernel_func = kernel_func\n",
        "\n",
        "        self.compute_training_covariance()\n",
        "\n",
        "        self.noise_term = self.noise * torch.eye(self.X1.shape[0], device=DEVICE)\n",
        "\n",
        "    def compute_training_covariance(self):\n",
        "        # Computes the training covariance matrix Σ11(X, X) using self.kernel_func and your input data self.X1\n",
        "\n",
        "        ### STUDENT CODE BEGINS ###\n",
        "        self.Σ11 = ...\n",
        "        self.Σ11 = self.Σ11 + self.noise_term\n",
        "        ### STUDENT CODE ENDS ###\n",
        "\n",
        "    def compute_posterior(self, X):\n",
        "        # X: (N x k) set of inputs used to predict\n",
        "        # μ2: (N x 1) GP means at inputs X\n",
        "        # Σ2: (N x N) GP means at inputs X\n",
        "\n",
        "        ### STUDENT CODE BEGINS ###\n",
        "        Σ22 = ...\n",
        "        Σ12 = ...\n",
        "\n",
        "        # We've given you this function to speed up inference. There are two things happening here.\n",
        "        # Instead of solving an explicit inverse, we are solving a system of linear equations\n",
        "        # self.Σ11 @ X= Σ12, such that X.T = ( Σ21 @ inv(self.Σ11) ). We are using a\n",
        "        # Cholesky decomposition because Σ11 is PD, so the solver that solves the system of\n",
        "        # linear equations can save on compute since the matrices have structure to them.\n",
        "        # You shouldn't need to tweak these next two lines.\n",
        "        L = torch.linalg.cholesky_ex(self.Σ11)[0]\n",
        "        Σ_intermediate = torch.cholesky_solve(Σ12, L).T\n",
        "\n",
        "        # Compute posterior mean\n",
        "        μ = ...\n",
        "\n",
        "        # Compute the posterior covariance\n",
        "        Σ = ...\n",
        "\n",
        "        ### STUDENT CODE ENDS ###\n",
        "\n",
        "        return μ, Σ  # posterior mean, covariance\n",
        "\n",
        "###### KERNELS ######\n",
        "\n",
        "# Question 2c\n",
        "def radial_basis(X1, X2, sig=1., l=0.1):\n",
        "    # Implement the radial basis kernel, given two data matrices X1 and X2\n",
        "    # X1: Input data (N x k)\n",
        "    # X2: Input data (M x k)\n",
        "    # returns K (N x M) matrix\n",
        "\n",
        "    ### STUDENT CODE BEGINS ###\n",
        "    N, k = X1.shape\n",
        "    M, k = X2.shape\n",
        "\n",
        "    # Suggestions for those unfamiliar with Python / Numpy / Pytorch.\n",
        "    # Step 1: For every row in X1 and every row in X2 (N x M combinations in total),\n",
        "    # you want to compute some sort of distance. You can easily do this through array broadcasting.\n",
        "    # If you convert X1 into a tensor (N x 1 x k) and X2 into a tensor (1 x M x k), their difference\n",
        "    # will be a (N x M x k) tensor, where the (i,j) element is a k-dimensional vector that represents the\n",
        "    # difference between the i-th row of X1 and the j-th row of X2. You can use the built-in methods of the tensors:\n",
        "    # X.reshape(dim0, dim1, dim2).\n",
        "\n",
        "    # You may find the following functions useful:\n",
        "    # torch.linalg.norm( ... , dim=-1) -> This takes the norm in the last dimension of a tensor.\n",
        "    # torch.exp( ... ) -> This is the same as the np equivalent. Takes the element-wise exponent.\n",
        "    K = ...\n",
        "    ### STUDENT CODE ENDS ###\n",
        "\n",
        "    return K\n"
      ]
    },
    {
      "cell_type": "markdown",
      "metadata": {
        "id": "Cunh5dsJdNnT"
      },
      "source": [
        "## Read and downsample the point clouds. The relevant files you can put in the Files tab (below Secrets)."
      ]
    },
    {
      "cell_type": "code",
      "execution_count": null,
      "metadata": {
        "id": "xNMbu7iCKGBt"
      },
      "outputs": [],
      "source": [
        "# Load terrain\n",
        "terrain = o3d.io.read_point_cloud('terrain.ply')\n",
        "terrain_noisy = o3d.io.read_point_cloud('terrain_noisy.ply')\n",
        "\n",
        "# Downsample\n",
        "terrain_down = terrain.uniform_down_sample(100)\n",
        "terrain_noisy_down = terrain_noisy.uniform_down_sample(100)"
      ]
    },
    {
      "cell_type": "markdown",
      "metadata": {
        "id": "XwZfA1C6dQEw"
      },
      "source": [
        "## Convert the point clouds into tensors for Pytorch, and create the dataset."
      ]
    },
    {
      "cell_type": "code",
      "execution_count": null,
      "metadata": {
        "id": "7KeUbp4OhYc0"
      },
      "outputs": [],
      "source": [
        "terrain_down_tensor = torch.tensor(terrain_down.points, device=DEVICE)\n",
        "terrain_noisy_down_tensor = torch.tensor(terrain_noisy_down.points, device=DEVICE)\n",
        "\n",
        "X_test = terrain_down_tensor[:,0:2]\n",
        "Y_test = terrain_down_tensor[:,2]\n",
        "\n",
        "X_train = terrain_noisy_down_tensor[:,0:2]\n",
        "Y_train = terrain_noisy_down_tensor[:,2]"
      ]
    },
    {
      "cell_type": "markdown",
      "metadata": {
        "id": "vaf5NCuUcl57"
      },
      "source": [
        "## Instantiate the Gaussian Process Class"
      ]
    },
    {
      "cell_type": "code",
      "execution_count": null,
      "metadata": {
        "id": "-Aq3FT7QQt11"
      },
      "outputs": [],
      "source": [
        "gp = GaussianProcess(X_train, Y_train, kernel_func=radial_basis)"
      ]
    },
    {
      "cell_type": "markdown",
      "metadata": {
        "id": "hvAWVxsFcopq"
      },
      "source": [
        "## Compute the Posterior on the Training Data"
      ]
    },
    {
      "cell_type": "code",
      "execution_count": null,
      "metadata": {
        "id": "ybOc0o_-Qv6d"
      },
      "outputs": [],
      "source": [
        "mu_train, Sigma_train = gp.compute_posterior(X_train)\n",
        "\n",
        "mu_train = mu_train.cpu().numpy()\n",
        "Sigma_train = Sigma_train.cpu().numpy()\n",
        "Y_train = Y_train.cpu().numpy()"
      ]
    },
    {
      "cell_type": "markdown",
      "metadata": {
        "id": "YarI-3dZZ4jl"
      },
      "source": [
        "## Compute Mean Squared Error on Training"
      ]
    },
    {
      "cell_type": "code",
      "execution_count": null,
      "metadata": {
        "id": "zWw8ccscZ3qS"
      },
      "outputs": [],
      "source": [
        "### STUDENT CODE BEGINS ###\n",
        "mse_train = ...\n",
        "### STUDENT CODE ENDS"
      ]
    },
    {
      "cell_type": "markdown",
      "metadata": {
        "id": "ByPc7PIuQyEy"
      },
      "source": [
        "## Compute the Posterior on the Test Data"
      ]
    },
    {
      "cell_type": "code",
      "execution_count": null,
      "metadata": {
        "id": "fWYlG7DeQzcy"
      },
      "outputs": [],
      "source": [
        "mu_test, Sigma_test = gp.compute_posterior(X_test)\n",
        "mu_test = mu_test.cpu().numpy()\n",
        "Sigma_test = Sigma_test.cpu().numpy()"
      ]
    },
    {
      "cell_type": "markdown",
      "metadata": {
        "id": "pvUGKiXjafg5"
      },
      "source": [
        "## Compute Mean Squared Error on Test"
      ]
    },
    {
      "cell_type": "code",
      "execution_count": null,
      "metadata": {
        "id": "78kG_Z9Mdb98"
      },
      "outputs": [],
      "source": [
        "### STUDENT CODE BEGINS ###\n",
        "mse_test = ...\n",
        "### STUDENT CODE ENDS ###"
      ]
    },
    {
      "cell_type": "markdown",
      "metadata": {
        "id": "QaVyhKVSaLKx"
      },
      "source": [
        "## Plotting"
      ]
    },
    {
      "cell_type": "code",
      "execution_count": null,
      "metadata": {
        "id": "i4A93pENYHUG"
      },
      "outputs": [],
      "source": [
        "### STUDENT CODE BEGINS ###\n",
        "Y_test = Y_test.cpu().numpy()\n",
        "X_test = X_test.cpu().numpy()\n",
        "\n",
        "mean = ...\n",
        "std = ...\n",
        "error = ...\n",
        "\n",
        "### STUDENT CODE ENDS ###\n",
        "\n",
        "\n",
        "# Use the built-in colormaps and normalization\n",
        "# Also include the colorbars\n",
        "fig, ax = plt.subplots(4, figsize=(15, 15), sharex=True)\n",
        "\n",
        "# Plot the values with a colorbar\n",
        "vals_to_plot = [Y_test, mean, std, error]\n",
        "names_to_plot = ['Ground Truth', 'Mean', 'Standard Deviation', 'Difference']\n",
        "\n",
        "for i, (vals, name) in enumerate(zip(vals_to_plot, names_to_plot)):\n",
        "    im = ax[i].scatter(X_test[:, 0], X_test[:, 1], c=vals, cmap='viridis')\n",
        "    ax[i].set_aspect('equal', adjustable='box')\n",
        "\n",
        "    # Add a y-label (x is shared)\n",
        "    ax[i].set_ylabel('y')\n",
        "\n",
        "    # Add a colorbar\n",
        "    cb = plt.colorbar(im, ax=ax[i], aspect=5)\n",
        "\n",
        "    # Add more ticks to the colorbar\n",
        "    tick_locator = ticker.MaxNLocator(nbins=7)\n",
        "    cb.locator = tick_locator\n",
        "    cb.update_ticks()\n",
        "\n",
        "    # Label the colorbar\n",
        "    cb.set_label(name)\n",
        "\n",
        "# Add an x-label\n",
        "ax[-1].set_xlabel('x')"
      ]
    }
  ],
  "metadata": {
    "accelerator": "GPU",
    "colab": {
      "gpuType": "T4",
      "provenance": []
    },
    "kernelspec": {
      "display_name": "Python 3",
      "name": "python3"
    },
    "language_info": {
      "codemirror_mode": {
        "name": "ipython",
        "version": 3
      },
      "file_extension": ".py",
      "mimetype": "text/x-python",
      "name": "python",
      "nbconvert_exporter": "python",
      "pygments_lexer": "ipython3",
      "version": "3.10.7"
    }
  },
  "nbformat": 4,
  "nbformat_minor": 0
}
